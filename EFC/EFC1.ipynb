{
  "cells": [
    {
      "cell_type": "markdown",
      "metadata": {
        "id": "XAdlKnDBj5uB"
      },
      "source": [
        "# GCC253 - Complexidade e Projetos de Algoritmos - 2022/2 - EFC1\n",
        "\n",
        "> **Prof.: Douglas H. S. Abreu**\n",
        "\n",
        "**Aluno:** Victor Gonçalves Lima\n",
        "\n",
        "**Matricula:** 202020775\n",
        "\n",
        "**Turma:** 10A"
      ]
    },
    {
      "cell_type": "markdown",
      "metadata": {
        "id": "J3d6JlRUxREN"
      },
      "source": [
        "# Importações e Variáveis globais"
      ]
    },
    {
      "cell_type": "code",
      "execution_count": 1,
      "metadata": {},
      "outputs": [],
      "source": [
        "from math import inf, floor"
      ]
    },
    {
      "cell_type": "markdown",
      "metadata": {
        "id": "kPNpzNYwkKAO"
      },
      "source": [
        "# Funções de Ordenação"
      ]
    },
    {
      "cell_type": "markdown",
      "metadata": {
        "id": "nEw1UEsmoKMg"
      },
      "source": [
        "##  Insertion Sort\n"
      ]
    },
    {
      "cell_type": "markdown",
      "metadata": {},
      "source": [
        "<img src=\"./img/insertionSort.png\">"
      ]
    },
    {
      "cell_type": "code",
      "execution_count": 2,
      "metadata": {
        "id": "kbOrhdB-j_px"
      },
      "outputs": [],
      "source": [
        "def insertionSort(A: list[int]) -> None:\n",
        "    for j in range(1, len(A)):\n",
        "        key = A[j]\n",
        "        i = j - 1\n",
        "        while i >= 0 and A[i] > key:\n",
        "            A[i + 1] = A[i]\n",
        "            i -= 1\n",
        "        A[i + 1] = key\n",
        "    return"
      ]
    },
    {
      "cell_type": "markdown",
      "metadata": {
        "id": "9a-wJwU-wtmQ"
      },
      "source": [
        "##  Merge Sort\n"
      ]
    },
    {
      "cell_type": "markdown",
      "metadata": {},
      "source": [
        "<img src=\"./img/merge.png\">"
      ]
    },
    {
      "cell_type": "code",
      "execution_count": 3,
      "metadata": {},
      "outputs": [],
      "source": [
        "def merge(A: list[int], p: int, q: int, r: int) -> None:\n",
        "    n1 = q - p + 1\n",
        "    n2 = r - q\n",
        "    L = [0 for _ in range(n1 + 1)]\n",
        "    R = [0 for _ in range(n2 + 1)]\n",
        "    for i in range(0, n1):\n",
        "        L[i] = A[p + i]\n",
        "    for j in range(n2):\n",
        "        R[j] = A[q + j +1]\n",
        "    L[n1] = inf\n",
        "    R[n2] = inf\n",
        "    i = j = 0\n",
        "    for k in range(p, r + 1):\n",
        "        if L[i] < R[j]:\n",
        "            A[k] = L[i]\n",
        "            i += 1\n",
        "        else:\n",
        "            A[k] = R[j]\n",
        "            j += 1\n",
        "    return"
      ]
    },
    {
      "cell_type": "markdown",
      "metadata": {},
      "source": [
        "<img src=\"./img/mergeSort.png\">"
      ]
    },
    {
      "cell_type": "code",
      "execution_count": 4,
      "metadata": {
        "id": "8cgIJ_4EwbPN"
      },
      "outputs": [],
      "source": [
        "def mergeSort(A: list[int], p: int, r: int) -> None:\n",
        "    if p < r:\n",
        "        q = floor((p + r) / 2)\n",
        "        mergeSort(A, p, q)\n",
        "        mergeSort(A, q + 1, r)\n",
        "        merge(A, p, q, r)\n",
        "    return"
      ]
    },
    {
      "cell_type": "markdown",
      "metadata": {
        "id": "8dWpeYUvw-wU"
      },
      "source": [
        "##  Selection Sort\n"
      ]
    },
    {
      "cell_type": "markdown",
      "metadata": {},
      "source": [
        "<img src=\"./img/selectionSort.png\">"
      ]
    },
    {
      "cell_type": "code",
      "execution_count": 5,
      "metadata": {
        "id": "vNgUDShawygu"
      },
      "outputs": [],
      "source": [
        "def selectionSort(A: list[int], n: int) -> None:\n",
        "    for i in range(0, n):\n",
        "        smallest = i\n",
        "        for j in range(i + 1, n):\n",
        "            if A[j] < A[smallest]:\n",
        "                smallest = j\n",
        "        A[i], A[smallest] = A[smallest], A[i]\n",
        "    return"
      ]
    },
    {
      "cell_type": "markdown",
      "metadata": {
        "id": "zNI1kX0yyDrs"
      },
      "source": [
        "##  Bubble Sort"
      ]
    },
    {
      "cell_type": "markdown",
      "metadata": {},
      "source": [
        "<img src=\"./img/bubbleSort.png\">"
      ]
    },
    {
      "cell_type": "code",
      "execution_count": 6,
      "metadata": {
        "id": "6X_zk1yWxMQS"
      },
      "outputs": [],
      "source": [
        "def bubbleSort(A: list[int]) -> None:\n",
        "    for i in range(0, len(A) - 1):\n",
        "        for j in range(len(A) - 1, i, -1):\n",
        "            if A[j] < A[j - 1]:\n",
        "                A[j], A[j - 1] = A[j - 1], A[j]\n",
        "    return"
      ]
    },
    {
      "cell_type": "markdown",
      "metadata": {
        "id": "vk4vOTkKyLB-"
      },
      "source": [
        "## Heap Sort"
      ]
    },
    {
      "cell_type": "markdown",
      "metadata": {},
      "source": [
        "<img src=\"./img/tree.png\">"
      ]
    },
    {
      "cell_type": "code",
      "execution_count": 7,
      "metadata": {},
      "outputs": [],
      "source": [
        "def parent(i: int) -> int:\n",
        "    return floor(i / 2)\n",
        "\n",
        "def left(i: int) -> int:\n",
        "    return 2 * i\n",
        "\n",
        "def right(i: int) -> int:\n",
        "    return 2 * i + 1"
      ]
    },
    {
      "cell_type": "markdown",
      "metadata": {},
      "source": [
        "<img src=\"./img/maxHeapify.png\">"
      ]
    },
    {
      "cell_type": "code",
      "execution_count": 8,
      "metadata": {},
      "outputs": [],
      "source": [
        "def maxHeapify(A: list[int], heap_size: int, i: int) -> None:\n",
        "    l = left(i)\n",
        "    r = right(i)\n",
        "    if l < heap_size and A[l] > A[i]:\n",
        "        largest = l\n",
        "    else:\n",
        "        largest  = i\n",
        "    if r < heap_size and A[r] > A[largest]:\n",
        "        largest = r\n",
        "    if largest != i:\n",
        "        A[i], A[largest] = A[largest], A[i]\n",
        "        maxHeapify(A, heap_size, largest)\n",
        "    return"
      ]
    },
    {
      "cell_type": "markdown",
      "metadata": {},
      "source": [
        "<img src=\"./img/buildMaxHeap.png\">"
      ]
    },
    {
      "cell_type": "code",
      "execution_count": 9,
      "metadata": {},
      "outputs": [],
      "source": [
        "def buildMaxHeap(A: list[int], heap_size) -> None:\n",
        "    for i in range(floor(len(A) / 2) - 1, -1, -1):\n",
        "        maxHeapify(A, heap_size, i)"
      ]
    },
    {
      "cell_type": "markdown",
      "metadata": {},
      "source": [
        "<img src=\"./img/heapSort.png\">"
      ]
    },
    {
      "cell_type": "code",
      "execution_count": 10,
      "metadata": {
        "id": "39a7xXzLyH9g"
      },
      "outputs": [],
      "source": [
        "def heapSort(A: list[int]) -> None:\n",
        "    heap_size = len(A)\n",
        "    buildMaxHeap(A, heap_size)\n",
        "    for i in range(len(A) - 1, 0, -1):\n",
        "        A[0], A[i] = A[i], A[0]\n",
        "        heap_size -= 1\n",
        "        maxHeapify(A, heap_size, 0)\n",
        "    return"
      ]
    },
    {
      "cell_type": "markdown",
      "metadata": {
        "id": "fFiGho5CyU3t"
      },
      "source": [
        "## Quick Sort com pivo sendo o ultimo elemento do arranjo\n",
        "\n",
        "> pivo = *A[A-comprimento]*"
      ]
    },
    {
      "cell_type": "markdown",
      "metadata": {},
      "source": [
        "<img src=\"./img/partition.png\">"
      ]
    },
    {
      "cell_type": "code",
      "execution_count": 11,
      "metadata": {},
      "outputs": [],
      "source": [
        "def partition(A: list[int], p: int, r: int) -> int:\n",
        "    x = A[r]\n",
        "    i = p - 1\n",
        "    for j in range(p, r):\n",
        "        if A[j] <= x:\n",
        "            i += 1\n",
        "            A[i], A[j] = A[j], A[i]\n",
        "    A[i + 1], A[r] = A[r], A[i + 1]\n",
        "    return i + 1"
      ]
    },
    {
      "cell_type": "markdown",
      "metadata": {},
      "source": [
        "<img src=\"./img/quickSort.png\">"
      ]
    },
    {
      "cell_type": "code",
      "execution_count": 12,
      "metadata": {
        "id": "1Ie_N5CRyKY7"
      },
      "outputs": [],
      "source": [
        "def quickSort(A: list[int], p: int, r: int):\n",
        "    if p < r:\n",
        "        q = partition(A, p, r)\n",
        "        quickSort(A, p, q - 1)\n",
        "        quickSort(A, q + 1, r)\n",
        "    return"
      ]
    },
    {
      "cell_type": "markdown",
      "metadata": {
        "id": "VomdAnCrzEv1"
      },
      "source": [
        "# Questões"
      ]
    },
    {
      "cell_type": "markdown",
      "metadata": {
        "id": "3QKV979kzItD"
      },
      "source": [
        "\n",
        "\n",
        "1.   Escolha pelo menos 3 arranjos. Ex: ***A[5,...,1000,...,100]*** e mostre o funcionamento dos Algoritmos realizando a ordenação.\n",
        "\n",
        "\n",
        "\n"
      ]
    },
    {
      "cell_type": "code",
      "execution_count": 13,
      "metadata": {},
      "outputs": [],
      "source": [
        "A = [25, 6, 4, 1, 88, 0, 6, 47, 99, 30]\n",
        "B = [12, 78, 55, 100, 24, 9, 47, 47, 1, 0]\n",
        "C = [98, 75, 57, 56, 44, 25, 25, 3, 2, 0]"
      ]
    },
    {
      "cell_type": "markdown",
      "metadata": {},
      "source": [
        "## Insertion Sort"
      ]
    },
    {
      "cell_type": "code",
      "execution_count": 14,
      "metadata": {},
      "outputs": [
        {
          "name": "stdout",
          "output_type": "stream",
          "text": [
            "Entrada: [25, 6, 4, 1, 88, 0, 6, 47, 99, 30]\n",
            "Saída:   [0, 1, 4, 6, 6, 25, 30, 47, 88, 99]\n"
          ]
        }
      ],
      "source": [
        "a = A.copy()\n",
        "print(\"Entrada:\", a)\n",
        "insertionSort(a)\n",
        "print(\"Saída:  \", a)"
      ]
    },
    {
      "cell_type": "code",
      "execution_count": 15,
      "metadata": {},
      "outputs": [
        {
          "name": "stdout",
          "output_type": "stream",
          "text": [
            "Entrada: [12, 78, 55, 100, 24, 9, 47, 47, 1, 0]\n",
            "Saída:   [0, 1, 9, 12, 24, 47, 47, 55, 78, 100]\n"
          ]
        }
      ],
      "source": [
        "b = B.copy()\n",
        "print(\"Entrada:\", b)\n",
        "insertionSort(b)\n",
        "print(\"Saída:  \", b)"
      ]
    },
    {
      "cell_type": "code",
      "execution_count": 16,
      "metadata": {},
      "outputs": [
        {
          "name": "stdout",
          "output_type": "stream",
          "text": [
            "Entrada: [98, 75, 57, 56, 44, 25, 25, 3, 2, 0]\n",
            "Saída:   [0, 2, 3, 25, 25, 44, 56, 57, 75, 98]\n"
          ]
        }
      ],
      "source": [
        "c = C.copy()\n",
        "print(\"Entrada:\", c)\n",
        "insertionSort(c)\n",
        "print(\"Saída:  \", c)"
      ]
    },
    {
      "cell_type": "markdown",
      "metadata": {},
      "source": [
        "## Merge Sort"
      ]
    },
    {
      "cell_type": "code",
      "execution_count": 17,
      "metadata": {},
      "outputs": [
        {
          "name": "stdout",
          "output_type": "stream",
          "text": [
            "Entrada: [25, 6, 4, 1, 88, 0, 6, 47, 99, 30]\n",
            "Saída:   [0, 1, 4, 6, 6, 25, 30, 47, 88, 99]\n"
          ]
        }
      ],
      "source": [
        "a = A.copy()\n",
        "print(\"Entrada:\", a)\n",
        "mergeSort(a, 0, len(a) - 1)\n",
        "print(\"Saída:  \", a)"
      ]
    },
    {
      "cell_type": "code",
      "execution_count": 18,
      "metadata": {},
      "outputs": [
        {
          "name": "stdout",
          "output_type": "stream",
          "text": [
            "Entrada: [12, 78, 55, 100, 24, 9, 47, 47, 1, 0]\n",
            "Saída:   [0, 1, 9, 12, 24, 47, 47, 55, 78, 100]\n"
          ]
        }
      ],
      "source": [
        "b = B.copy()\n",
        "print(\"Entrada:\", b)\n",
        "mergeSort(b, 0, len(b) - 1)\n",
        "print(\"Saída:  \", b)"
      ]
    },
    {
      "cell_type": "code",
      "execution_count": 19,
      "metadata": {},
      "outputs": [
        {
          "name": "stdout",
          "output_type": "stream",
          "text": [
            "Entrada: [98, 75, 57, 56, 44, 25, 25, 3, 2, 0]\n",
            "Saída:   [0, 2, 3, 25, 25, 44, 56, 57, 75, 98]\n"
          ]
        }
      ],
      "source": [
        "c = C.copy()\n",
        "print(\"Entrada:\", c)\n",
        "mergeSort(c, 0, len(c) - 1)\n",
        "print(\"Saída:  \", c)"
      ]
    },
    {
      "cell_type": "markdown",
      "metadata": {},
      "source": [
        "## Selection Sort"
      ]
    },
    {
      "cell_type": "code",
      "execution_count": 20,
      "metadata": {},
      "outputs": [
        {
          "name": "stdout",
          "output_type": "stream",
          "text": [
            "Entrada: [25, 6, 4, 1, 88, 0, 6, 47, 99, 30]\n",
            "Saída:   [0, 1, 4, 6, 6, 25, 30, 47, 88, 99]\n"
          ]
        }
      ],
      "source": [
        "a = A.copy()\n",
        "print(\"Entrada:\", a)\n",
        "selectionSort(a, len(a))\n",
        "print(\"Saída:  \", a)"
      ]
    },
    {
      "cell_type": "code",
      "execution_count": 21,
      "metadata": {},
      "outputs": [
        {
          "name": "stdout",
          "output_type": "stream",
          "text": [
            "Entrada: [12, 78, 55, 100, 24, 9, 47, 47, 1, 0]\n",
            "Saída:   [0, 1, 9, 12, 24, 47, 47, 55, 78, 100]\n"
          ]
        }
      ],
      "source": [
        "b = B.copy()\n",
        "print(\"Entrada:\", b)\n",
        "selectionSort(b, len(b))\n",
        "print(\"Saída:  \", b)"
      ]
    },
    {
      "cell_type": "code",
      "execution_count": 22,
      "metadata": {},
      "outputs": [
        {
          "name": "stdout",
          "output_type": "stream",
          "text": [
            "Entrada: [98, 75, 57, 56, 44, 25, 25, 3, 2, 0]\n",
            "Saída:   [0, 2, 3, 25, 25, 44, 56, 57, 75, 98]\n"
          ]
        }
      ],
      "source": [
        "c = C.copy()\n",
        "print(\"Entrada:\", c)\n",
        "selectionSort(c, len(c))\n",
        "print(\"Saída:  \", c)"
      ]
    },
    {
      "cell_type": "markdown",
      "metadata": {},
      "source": [
        "## Bubble Sort"
      ]
    },
    {
      "cell_type": "code",
      "execution_count": 23,
      "metadata": {},
      "outputs": [
        {
          "name": "stdout",
          "output_type": "stream",
          "text": [
            "Entrada: [25, 6, 4, 1, 88, 0, 6, 47, 99, 30]\n",
            "Saída:   [0, 1, 4, 6, 6, 25, 30, 47, 88, 99]\n"
          ]
        }
      ],
      "source": [
        "a = A.copy()\n",
        "print(\"Entrada:\", a)\n",
        "bubbleSort(a)\n",
        "print(\"Saída:  \", a)"
      ]
    },
    {
      "cell_type": "code",
      "execution_count": 24,
      "metadata": {},
      "outputs": [
        {
          "name": "stdout",
          "output_type": "stream",
          "text": [
            "Entrada: [12, 78, 55, 100, 24, 9, 47, 47, 1, 0]\n",
            "Saída:   [0, 1, 9, 12, 24, 47, 47, 55, 78, 100]\n"
          ]
        }
      ],
      "source": [
        "b = B.copy()\n",
        "print(\"Entrada:\", b)\n",
        "bubbleSort(b)\n",
        "print(\"Saída:  \", b)"
      ]
    },
    {
      "cell_type": "code",
      "execution_count": 25,
      "metadata": {},
      "outputs": [
        {
          "name": "stdout",
          "output_type": "stream",
          "text": [
            "Entrada: [98, 75, 57, 56, 44, 25, 25, 3, 2, 0]\n",
            "Saída:   [0, 2, 3, 25, 25, 44, 56, 57, 75, 98]\n"
          ]
        }
      ],
      "source": [
        "c = C.copy()\n",
        "print(\"Entrada:\", c)\n",
        "bubbleSort(c)\n",
        "print(\"Saída:  \", c)"
      ]
    },
    {
      "cell_type": "markdown",
      "metadata": {},
      "source": [
        "## Heap Sort"
      ]
    },
    {
      "cell_type": "code",
      "execution_count": 26,
      "metadata": {},
      "outputs": [
        {
          "name": "stdout",
          "output_type": "stream",
          "text": [
            "Entrada: [25, 6, 4, 1, 88, 0, 6, 47, 99, 30]\n",
            "Saída:   [0, 1, 4, 6, 6, 25, 30, 47, 88, 99]\n"
          ]
        }
      ],
      "source": [
        "a = A.copy()\n",
        "print(\"Entrada:\", a)\n",
        "heapSort(a)\n",
        "print(\"Saída:  \", a)"
      ]
    },
    {
      "cell_type": "code",
      "execution_count": 27,
      "metadata": {},
      "outputs": [
        {
          "name": "stdout",
          "output_type": "stream",
          "text": [
            "Entrada: [12, 78, 55, 100, 24, 9, 47, 47, 1, 0]\n",
            "Saída:   [0, 1, 9, 12, 24, 47, 47, 55, 78, 100]\n"
          ]
        }
      ],
      "source": [
        "b = B.copy()\n",
        "print(\"Entrada:\", b)\n",
        "heapSort(b)\n",
        "print(\"Saída:  \", b)"
      ]
    },
    {
      "cell_type": "code",
      "execution_count": 28,
      "metadata": {},
      "outputs": [
        {
          "name": "stdout",
          "output_type": "stream",
          "text": [
            "Entrada: [98, 75, 57, 56, 44, 25, 25, 3, 2, 0]\n",
            "Saída:   [0, 2, 3, 25, 25, 44, 56, 57, 75, 98]\n"
          ]
        }
      ],
      "source": [
        "c = C.copy()\n",
        "print(\"Entrada:\", c)\n",
        "heapSort(c)\n",
        "print(\"Saída:  \", c)"
      ]
    },
    {
      "cell_type": "markdown",
      "metadata": {},
      "source": [
        "## Quick Sort"
      ]
    },
    {
      "cell_type": "code",
      "execution_count": 29,
      "metadata": {},
      "outputs": [
        {
          "name": "stdout",
          "output_type": "stream",
          "text": [
            "Entrada: [25, 6, 4, 1, 88, 0, 6, 47, 99, 30]\n",
            "Saída:   [0, 1, 4, 6, 6, 25, 30, 47, 88, 99]\n"
          ]
        }
      ],
      "source": [
        "a = A.copy()\n",
        "print(\"Entrada:\", a)\n",
        "quickSort(a, 0, len(a) - 1)\n",
        "print(\"Saída:  \", a)"
      ]
    },
    {
      "cell_type": "code",
      "execution_count": 30,
      "metadata": {},
      "outputs": [
        {
          "name": "stdout",
          "output_type": "stream",
          "text": [
            "Entrada: [12, 78, 55, 100, 24, 9, 47, 47, 1, 0]\n",
            "Saída:   [0, 1, 9, 12, 24, 47, 47, 55, 78, 100]\n"
          ]
        }
      ],
      "source": [
        "b = B.copy()\n",
        "print(\"Entrada:\", b)\n",
        "quickSort(b, 0, len(b) - 1)\n",
        "print(\"Saída:  \", b)"
      ]
    },
    {
      "cell_type": "code",
      "execution_count": 31,
      "metadata": {},
      "outputs": [
        {
          "name": "stdout",
          "output_type": "stream",
          "text": [
            "Entrada: [98, 75, 57, 56, 44, 25, 25, 3, 2, 0]\n",
            "Saída:   [0, 2, 3, 25, 25, 44, 56, 57, 75, 98]\n"
          ]
        }
      ],
      "source": [
        "c = C.copy()\n",
        "print(\"Entrada:\", c)\n",
        "quickSort(c, 0, len(c) - 1)\n",
        "print(\"Saída:  \", c)"
      ]
    }
  ],
  "metadata": {
    "colab": {
      "collapsed_sections": [
        "kPNpzNYwkKAO",
        "nEw1UEsmoKMg",
        "9a-wJwU-wtmQ",
        "8dWpeYUvw-wU",
        "zNI1kX0yyDrs",
        "vk4vOTkKyLB-"
      ],
      "provenance": [],
      "toc_visible": true
    },
    "kernelspec": {
      "display_name": "Python 3.10.7 64-bit",
      "language": "python",
      "name": "python3"
    },
    "language_info": {
      "codemirror_mode": {
        "name": "ipython",
        "version": 3
      },
      "file_extension": ".py",
      "mimetype": "text/x-python",
      "name": "python",
      "nbconvert_exporter": "python",
      "pygments_lexer": "ipython3",
      "version": "3.10.7"
    },
    "vscode": {
      "interpreter": {
        "hash": "ded7e86b1a4a2b04ab006feecfccb56ac6bd6c82bd49d3a17127fb43e065ce3e"
      }
    }
  },
  "nbformat": 4,
  "nbformat_minor": 0
}
